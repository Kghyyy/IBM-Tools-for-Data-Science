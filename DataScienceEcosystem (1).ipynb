{
  "metadata": {
    "kernelspec": {
      "name": "python",
      "display_name": "Python (Pyodide)",
      "language": "python"
    },
    "language_info": {
      "codemirror_mode": {
        "name": "python",
        "version": 3
      },
      "file_extension": ".py",
      "mimetype": "text/x-python",
      "name": "python",
      "nbconvert_exporter": "python",
      "pygments_lexer": "ipython3",
      "version": "3.8"
    }
  },
  "nbformat_minor": 5,
  "nbformat": 4,
  "cells": [
    {
      "id": "b41794b2-e702-4736-9258-9b7e1c235894",
      "cell_type": "markdown",
      "source": "# Data Science Tools and Ecosystem",
      "metadata": {}
    },
    {
      "id": "0e9142dd-c967-444f-be90-de775c004464",
      "cell_type": "markdown",
      "source": "In this notebook, Data Science Tools and Ecosystem are summarized.",
      "metadata": {}
    },
    {
      "id": "63e6c4e9-a708-4489-a8e7-47bac178d8bf",
      "cell_type": "markdown",
      "source": "Some of the popular languages that Data Scientists use are:\n1. Python\n2. SQL\n3. RStudio",
      "metadata": {}
    },
    {
      "id": "02486d5d-0b4a-4727-800b-fd6f932d578a",
      "cell_type": "markdown",
      "source": "Some of the commonly used libraries used by Data Scientists include: \n1. Numpy\n2. Keras\n3. Pandas",
      "metadata": {}
    },
    {
      "id": "c07adcc4-1866-4e13-a8ed-23588c12a2d3",
      "cell_type": "markdown",
      "source": "|Data Science Tools|\n|:----------------:|\n|Pandas|\n|Spark|\n|Hadoop|\n\n",
      "metadata": {}
    },
    {
      "id": "aabb8ac8-8a7f-41f8-8ff1-93fed7281fea",
      "cell_type": "markdown",
      "source": "### Below are a few example of evaluating arithmetic expressions in Python",
      "metadata": {}
    },
    {
      "id": "e2e47844-e7ff-4e8f-8c9f-cd318c3bf15f",
      "cell_type": "markdown",
      "source": "This a simple arithemtic expression to multiply then add integers.",
      "metadata": {}
    },
    {
      "id": "86e9727b-60d9-4357-93b9-10024f94af59",
      "cell_type": "code",
      "source": "(3*4)+5",
      "metadata": {
        "trusted": true
      },
      "outputs": [
        {
          "execution_count": 44,
          "output_type": "execute_result",
          "data": {
            "text/plain": "17"
          },
          "metadata": {}
        }
      ],
      "execution_count": 44
    },
    {
      "id": "33ad57c2-bacd-4046-8ad2-ee4197ffa14b",
      "cell_type": "code",
      "source": "200/60 ",
      "metadata": {
        "trusted": true
      },
      "outputs": [
        {
          "execution_count": 48,
          "output_type": "execute_result",
          "data": {
            "text/plain": "3.3333333333333335"
          },
          "metadata": {}
        }
      ],
      "execution_count": 48
    },
    {
      "id": "f3ad826b-d853-4f89-bd1f-d33ca9c6d7a7",
      "cell_type": "markdown",
      "source": "This will convert 200 minutes to hours by diving by 60",
      "metadata": {}
    },
    {
      "id": "c245a732-4e00-4fb5-9cd0-f8768a3af2f2",
      "cell_type": "markdown",
      "source": "**Objectives:**",
      "metadata": {}
    },
    {
      "id": "28e4960a-003f-4610-a7a2-c0c23a9551cd",
      "cell_type": "markdown",
      "source": "- Python\n- SQL\n- R Studio",
      "metadata": {}
    },
    {
      "id": "6b43cd3d-07bf-49da-8507-7b7b67e2e9a7",
      "cell_type": "markdown",
      "source": "## Author",
      "metadata": {}
    },
    {
      "id": "8659f6e0-230a-4985-b361-d32628a49807",
      "cell_type": "markdown",
      "source": "name: Kristen Gao",
      "metadata": {}
    }
  ]
}